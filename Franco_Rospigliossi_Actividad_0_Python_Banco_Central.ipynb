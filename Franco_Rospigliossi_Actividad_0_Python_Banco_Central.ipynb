{
  "nbformat": 4,
  "nbformat_minor": 0,
  "metadata": {
    "colab": {
      "provenance": [],
      "include_colab_link": true
    },
    "kernelspec": {
      "name": "python3",
      "display_name": "Python 3"
    },
    "language_info": {
      "name": "python"
    }
  },
  "cells": [
    {
      "cell_type": "markdown",
      "metadata": {
        "id": "view-in-github",
        "colab_type": "text"
      },
      "source": [
        "<a href=\"https://colab.research.google.com/github/francorospi/curso-python/blob/main/Franco_Rospigliossi_Actividad_0_Python_Banco_Central.ipynb\" target=\"_parent\"><img src=\"https://colab.research.google.com/assets/colab-badge.svg\" alt=\"Open In Colab\"/></a>"
      ]
    },
    {
      "cell_type": "markdown",
      "metadata": {
        "id": "F_3XoEBE7cKk"
      },
      "source": [
        "# Curso de Python: Actividad 0\n",
        "#### Profesor: Vicente Domínguez\n",
        "#### Ayudante: Daniela Flores\n",
        "\n",
        "En este *notebook* encontrará los ejercicios que debes resolver para la actividad 0 del curso. Estos ejercicios corresponden a los contenidos de \"Variables y Tipos\" y \"Control de Flujo\". La idea es que escriba el código que soluciona cada uno de los problemas en las celdas de código asignadas. Sin embargo, si siente que necesita más celdas, puede crear todas las que estime conveniente."
      ]
    },
    {
      "cell_type": "markdown",
      "metadata": {
        "id": "q8_c76nf5xvi"
      },
      "source": [
        "## Polinomios (1 punto)\n",
        "\n",
        "Evaluar el polinomio $$x^4 + \\frac{1}{2} x^3 + 2x^2 - x$$ para un número $x$ entregado por el usuario"
      ]
    },
    {
      "cell_type": "code",
      "metadata": {
        "id": "6t1gwvyw5xvi",
        "colab": {
          "base_uri": "https://localhost:8080/"
        },
        "outputId": "f45a6d38-8c89-4f7c-9ae6-fd1f9253dd3c"
      },
      "source": [
        "# Código polinomios\n",
        "x=float(input('Ingrese un número para evaluar el polinomio '))\n",
        "polinomio=x**4+(1/2*(x**3))+(2*(x**2))-x\n",
        "print(polinomio)"
      ],
      "execution_count": null,
      "outputs": [
        {
          "output_type": "stream",
          "name": "stdout",
          "text": [
            "Ingrese un número para evaluar el polinomio 85\n",
            "52522052.5\n"
          ]
        }
      ]
    },
    {
      "cell_type": "markdown",
      "metadata": {
        "id": "DURzqITS5xvi"
      },
      "source": [
        "\n",
        "\n",
        "```\n",
        "# Tiene formato de código\n",
        "```\n",
        "\n",
        "## Unidad (1 punto)\n",
        "\n",
        "Pida un número $x$ e imprima su unidad"
      ]
    },
    {
      "cell_type": "code",
      "metadata": {
        "id": "UkSne8Jp5xvi",
        "colab": {
          "base_uri": "https://localhost:8080/"
        },
        "outputId": "8bbe3618-5384-49e1-9777-d746163514b3"
      },
      "source": [
        "# Código unidad\n",
        "numero = int (input ('Ingresa el valor de numero: '))\n",
        "unidades=numero%10\n",
        "print ('Valor de unidades: ',unidades)"
      ],
      "execution_count": 5,
      "outputs": [
        {
          "output_type": "stream",
          "name": "stdout",
          "text": [
            "Ingresa el valor de numero: 897\n",
            "Valor de unidades:  7\n"
          ]
        }
      ]
    },
    {
      "cell_type": "markdown",
      "metadata": {
        "id": "a4kJEdPK8Y8S"
      },
      "source": [
        "## Contando de 1 a n (versión for) (1 punto)\n",
        "Escribir un programa que solicite un número `n` al usuario e imprima todos los números desde 1 hasta n utilizando `for`."
      ]
    },
    {
      "cell_type": "code",
      "metadata": {
        "scrolled": true,
        "id": "oW9ayKkq8Y8S",
        "colab": {
          "base_uri": "https://localhost:8080/"
        },
        "outputId": "650ec977-f1d6-47b0-eb65-9024e5afc8a7"
      },
      "source": [
        "# Código 1 a n (versión for)\n",
        "n=int(input('Ingrese un número para contar desde el 1: '))\n",
        "if n >= 1:\n",
        "  for i in range(1,n+1):\n",
        "    print(i)\n",
        "else:\n",
        "    print('El número ingresado debe ser mayor o igual a 1')"
      ],
      "execution_count": null,
      "outputs": [
        {
          "output_type": "stream",
          "name": "stdout",
          "text": [
            "Ingrese un número para contar desde el 1: 10\n",
            "1\n",
            "2\n",
            "3\n",
            "4\n",
            "5\n",
            "6\n",
            "7\n",
            "8\n",
            "9\n",
            "10\n"
          ]
        }
      ]
    },
    {
      "cell_type": "markdown",
      "metadata": {
        "id": "bALlgvKe9Qx5"
      },
      "source": [
        "## Sumar hasta n (versión while) (1 punto)\n",
        "\n",
        "Escriba un programa que solicite un número n al usuario y sume todos los números enteros menores o iguales a n. Utilice while en su solución."
      ]
    },
    {
      "cell_type": "code",
      "metadata": {
        "id": "e_5LG4yr9PtU",
        "colab": {
          "base_uri": "https://localhost:8080/"
        },
        "outputId": "3c01d4fa-cd88-456a-f13b-edf4bd95fded"
      },
      "source": [
        "# Sumar hasta n (versión while)\n",
        "i=0\n",
        "a=0\n",
        "n = int(input('Ingrese un número para sumar todos los números enteros menores o igual: '))\n",
        "if n > 0:\n",
        "  while(i <= n):\n",
        "    a = a + i\n",
        "    i = i + 1\n",
        "  print(a)\n",
        "else:\n",
        "  print('Error, debe ingresar un número entero mayor a 0')\n",
        "  \n",
        "\n"
      ],
      "execution_count": 10,
      "outputs": [
        {
          "output_type": "stream",
          "name": "stdout",
          "text": [
            "Ingrese un número para sumar todos los números enteros menores o igual: 5\n",
            "15\n"
          ]
        }
      ]
    },
    {
      "cell_type": "markdown",
      "metadata": {
        "id": "R0yHDxCa8Y8T"
      },
      "source": [
        "## Primo (versión for) (2 puntos)\n",
        "Escribir un programa que solicite un número n al usuario e indique si es primo o no."
      ]
    },
    {
      "cell_type": "code",
      "metadata": {
        "id": "rztWVPZY8uNU",
        "colab": {
          "base_uri": "https://localhost:8080/"
        },
        "outputId": "b06f26df-c16e-4c25-840a-9eee59ec1100"
      },
      "source": [
        "# Código primo (versión for)\n",
        "a=0\n",
        "n = int(input('Ingrese un número entero positivo: '))\n",
        "\n",
        "for i in range (2,n):\n",
        "  if (n%i) != 0:\n",
        "    a=1\n",
        "  else:\n",
        "    a=2\n",
        "    break\n",
        "if a == 2:\n",
        "  print('el número',n, 'no es primo')\n",
        "else:\n",
        "    print('el número',n, 'es primo') "
      ],
      "execution_count": 29,
      "outputs": [
        {
          "output_type": "stream",
          "name": "stdout",
          "text": [
            "Ingrese un número entero positivo: 47\n",
            "el número 47 es primo\n"
          ]
        }
      ]
    }
  ]
}